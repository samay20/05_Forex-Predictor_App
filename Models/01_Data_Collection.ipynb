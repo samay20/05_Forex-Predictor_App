{
 "cells": [
  {
   "cell_type": "code",
   "execution_count": 17,
   "metadata": {},
   "outputs": [],
   "source": [
    "\n",
    "###FOREX DATA: https://ca.investing.com/currencies/cad-inr-historical-data\n",
    "\n",
    "###INFLATION RATE (MONTHLY): https://www150.statcan.gc.ca/\n",
    "\n",
    "###GDP(Quarterly): https://fred.stlouisfed.org/\n",
    "\n",
    "###Employmentrate: https://www150.statcan.gc.ca/\n",
    "\n",
    "###Interbankrate: https://fred.stlouisfed.org/\n",
    "\n",
    "###shareprices: https://fred.stlouisfed.org/"
   ]
  },
  {
   "cell_type": "code",
   "execution_count": 18,
   "metadata": {},
   "outputs": [],
   "source": [
    "## Import Required Libraries\n",
    "\n",
    "import pandas as pd\n",
    "import numpy as np\n",
    "import matplotlib.pyplot as plt\n",
    "import statsmodels.graphics.tsaplots as sgt\n",
    "import statsmodels.tsa.stattools as sts\n",
    "from statsmodels.tsa.arima_model import ARIMA\n",
    "from scipy.stats.distributions import chi2 \n",
    "from math import sqrt\n",
    "import seaborn as sns\n",
    "sns.set()\n",
    "\n",
    "# To Avoid Warnings\n",
    "from pandas.plotting import register_matplotlib_converters\n",
    "register_matplotlib_converters()"
   ]
  },
  {
   "cell_type": "markdown",
   "metadata": {},
   "source": [
    "## Importing the Data and Pre-processing "
   ]
  },
  {
   "cell_type": "code",
   "execution_count": 19,
   "metadata": {},
   "outputs": [],
   "source": [
    "## Import all feature .csv files\n",
    "\n",
    "data_inr = pd.read_csv(\"./CAD_INR 2004-2021 Historical Data.csv\") # CAD to Indian Rupees\n",
    "data_usd = pd.read_csv(\"./CAD_USD 2004-2021 Historical Data.csv\") # CAD to US Dollars\n",
    "data_gbp = pd.read_csv(\"./CAD_GBP 2004-2021 Historical Data.csv\") # CAD to British Pounds\n",
    "data_jpy = pd.read_csv(\"./CAD_JPY 2004-2021 Historical Data.csv\") # CAD to Japanese Yen\n",
    "data_bhd = pd.read_csv(\"./CAD_BHD 2004-2021 Historical Data.csv\") # CAD to Bahraini Dinar\n",
    "data_gdp = pd.read_csv(\"./gdp_rate_2004_tilldate.csv\") # Canada Gross Domestic Product - Quarterly\n",
    "data_inflation = pd.read_csv(\"./CanadaInflation_2004_2021.csv\") # Canada Inflation Rate % - Monthly\n",
    "data_unemployment = pd.read_csv(\"./Unemploymentrate_2004_2021.csv\") # Canada Employment Rate % - Monthly\n",
    "data_interest = pd.read_csv(\"./InterbankRate_2004_tilldate.csv\") # Canada Interbank Interest Rate % - Monthly\n",
    "data_shareprices = pd.read_csv(\"./SharePrices_2004_tilldate.csv\") # Canada SharePrices % - Quarterly\n"
   ]
  },
  {
   "cell_type": "code",
   "execution_count": 20,
   "metadata": {},
   "outputs": [],
   "source": [
    "## Set Date Column as index for all\n",
    "\n",
    "data_inr.Date = pd.to_datetime(data_inr.Date, dayfirst = True)\n",
    "data_inr.set_index(\"Date\", inplace=True)\n",
    "data_usd.Date = pd.to_datetime(data_usd.Date, dayfirst = True)\n",
    "data_usd.set_index(\"Date\", inplace=True)\n",
    "data_gbp.Date = pd.to_datetime(data_gbp.Date, dayfirst = True)\n",
    "data_gbp.set_index(\"Date\", inplace=True)\n",
    "data_jpy.Date = pd.to_datetime(data_jpy.Date, dayfirst = True)\n",
    "data_jpy.set_index(\"Date\", inplace=True)\n",
    "data_bhd.Date = pd.to_datetime(data_bhd.Date, dayfirst = True)\n",
    "data_bhd.set_index(\"Date\", inplace=True)"
   ]
  },
  {
   "cell_type": "code",
   "execution_count": 21,
   "metadata": {},
   "outputs": [],
   "source": [
    "## GDP values, transform quarterly to daily, and impute using forward fill\n",
    "\n",
    "data_gdp.Date = pd.to_datetime(data_gdp.Date, dayfirst = True)\n",
    "data_gdp.rename({'DATE':'Date'},axis=1, inplace=True)\n",
    "data_gdp.set_index(\"Date\", inplace=True)\n",
    "\n",
    "data_gdp = data_gdp.resample('B').sum().replace(0,np.nan)\n",
    "data_gdp = data_gdp.fillna(method='ffill')"
   ]
  },
  {
   "cell_type": "code",
   "execution_count": 22,
   "metadata": {},
   "outputs": [],
   "source": [
    "## Inflation values, transform monthly to daily, and impute using forward fill\n",
    "\n",
    "data_inflation.year = pd.to_datetime(data_inflation.year, dayfirst = True)\n",
    "data_inflation.rename({'year':'Date'},axis=1, inplace=True)\n",
    "data_inflation.set_index(\"Date\", inplace=True)\n",
    "\n",
    "data_inflation = data_inflation.resample('B').sum().replace(0,np.nan)\n",
    "data_inflation = data_inflation.fillna(method='ffill')"
   ]
  },
  {
   "cell_type": "code",
   "execution_count": 23,
   "metadata": {},
   "outputs": [],
   "source": [
    "## Unemployment rate, transform monthly to daily, and impute using forward fill\n",
    "\n",
    "data_unemployment.Date = pd.to_datetime(data_unemployment.Date, dayfirst = True)\n",
    "data_unemployment.set_index(\"Date\", inplace=True)\n",
    "\n",
    "data_unemployment = data_unemployment.resample('B').sum().replace(0,np.nan)\n",
    "data_unemployment = data_unemployment.fillna(method='ffill')"
   ]
  },
  {
   "cell_type": "code",
   "execution_count": 24,
   "metadata": {},
   "outputs": [],
   "source": [
    "## Interest rate (Interbank) values, transform monthly to daily, and impute using forward fill\n",
    "\n",
    "data_interest.Date = pd.to_datetime(data_interest.Date, dayfirst = True)\n",
    "data_interest.set_index(\"Date\", inplace=True)\n",
    "\n",
    "data_interest = data_interest.resample('B').sum().replace(0,np.nan)\n",
    "data_interest = data_interest.fillna(method='ffill')"
   ]
  },
  {
   "cell_type": "code",
   "execution_count": 25,
   "metadata": {},
   "outputs": [],
   "source": [
    "## total Share price values, transform monthly to daily, and impute using forward fill\n",
    "\n",
    "data_shareprices.Date = pd.to_datetime(data_shareprices.Date, dayfirst = True)\n",
    "data_shareprices.set_index(\"Date\", inplace=True)\n",
    "\n",
    "data_shareprices = data_shareprices.resample('B').sum().replace(0,np.nan)\n",
    "data_shareprices = data_shareprices.fillna(method='ffill')"
   ]
  },
  {
   "cell_type": "code",
   "execution_count": 26,
   "metadata": {
    "scrolled": true
   },
   "outputs": [
    {
     "name": "stdout",
     "output_type": "stream",
     "text": [
      "(4537, 5)\n",
      "(4537, 5)\n",
      "(4537, 5)\n",
      "(4537, 5)\n",
      "(4537, 5)\n",
      "(4537, 1)\n",
      "(4537, 1)\n",
      "(4537, 1)\n",
      "(4537, 1)\n",
      "(4537, 1)\n"
     ]
    }
   ],
   "source": [
    "## check if size is same for all features\n",
    "\n",
    "print(data_inr.shape)\n",
    "print(data_usd.shape)\n",
    "print(data_gbp.shape)\n",
    "print(data_jpy.shape)\n",
    "print(data_bhd.shape)\n",
    "print(data_gdp.shape)\n",
    "print(data_inflation.shape)\n",
    "print(data_unemployment.shape)\n",
    "print(data_interest.shape)\n",
    "print(data_shareprices.shape)"
   ]
  },
  {
   "cell_type": "code",
   "execution_count": 27,
   "metadata": {},
   "outputs": [],
   "source": [
    "## Drop Unnecessary Columns for currencies\n",
    "\n",
    "data_inr.drop(['Open','High','Low','Change %'],axis=1, inplace=True)\n",
    "data_usd.drop(['Open','High','Low','Change %'],axis=1, inplace=True)\n",
    "data_gbp.drop(['Open','High','Low','Change %'],axis=1, inplace=True)\n",
    "data_jpy.drop(['Open','High','Low','Change %'],axis=1, inplace=True)\n",
    "data_bhd.drop(['Open','High','Low','Change %'],axis=1, inplace=True)"
   ]
  },
  {
   "cell_type": "code",
   "execution_count": 28,
   "metadata": {},
   "outputs": [
    {
     "name": "stdout",
     "output_type": "stream",
     "text": [
      "(4537, 1)\n",
      "(4537, 1)\n",
      "(4537, 1)\n",
      "(4537, 1)\n",
      "(4537, 1)\n",
      "(4537, 1)\n",
      "(4537, 1)\n",
      "(4537, 1)\n",
      "(4537, 1)\n",
      "(4537, 1)\n"
     ]
    }
   ],
   "source": [
    "## check if size is same for all features\n",
    "\n",
    "print(data_inr.shape)\n",
    "print(data_usd.shape)\n",
    "print(data_gbp.shape)\n",
    "print(data_jpy.shape)\n",
    "print(data_bhd.shape)\n",
    "print(data_gdp.shape)\n",
    "print(data_inflation.shape)\n",
    "print(data_unemployment.shape)\n",
    "print(data_interest.shape)\n",
    "print(data_shareprices.shape)"
   ]
  },
  {
   "cell_type": "code",
   "execution_count": 29,
   "metadata": {},
   "outputs": [],
   "source": [
    "## Combine all currencies to 1 dataframe\n",
    "\n",
    "data_currency = pd.concat([data_inr,data_usd,data_gbp,data_jpy,data_bhd],axis=1)"
   ]
  },
  {
   "cell_type": "code",
   "execution_count": 30,
   "metadata": {},
   "outputs": [
    {
     "data": {
      "text/html": [
       "<div>\n",
       "<style scoped>\n",
       "    .dataframe tbody tr th:only-of-type {\n",
       "        vertical-align: middle;\n",
       "    }\n",
       "\n",
       "    .dataframe tbody tr th {\n",
       "        vertical-align: top;\n",
       "    }\n",
       "\n",
       "    .dataframe thead th {\n",
       "        text-align: right;\n",
       "    }\n",
       "</style>\n",
       "<table border=\"1\" class=\"dataframe\">\n",
       "  <thead>\n",
       "    <tr style=\"text-align: right;\">\n",
       "      <th></th>\n",
       "      <th>inr</th>\n",
       "      <th>usd</th>\n",
       "      <th>gbp</th>\n",
       "      <th>jpy</th>\n",
       "      <th>bhd</th>\n",
       "      <th>gdp_rate</th>\n",
       "      <th>inflation</th>\n",
       "      <th>unemployment_rate</th>\n",
       "      <th>interest_rate</th>\n",
       "      <th>share_priecs</th>\n",
       "    </tr>\n",
       "    <tr>\n",
       "      <th>Date</th>\n",
       "      <th></th>\n",
       "      <th></th>\n",
       "      <th></th>\n",
       "      <th></th>\n",
       "      <th></th>\n",
       "      <th></th>\n",
       "      <th></th>\n",
       "      <th></th>\n",
       "      <th></th>\n",
       "      <th></th>\n",
       "    </tr>\n",
       "  </thead>\n",
       "  <tbody>\n",
       "    <tr>\n",
       "      <th>2004-01-01</th>\n",
       "      <td>35.171</td>\n",
       "      <td>0.7713</td>\n",
       "      <td>0.4329</td>\n",
       "      <td>82.91</td>\n",
       "      <td>0.2908</td>\n",
       "      <td>0.720268</td>\n",
       "      <td>0.013</td>\n",
       "      <td>7.3</td>\n",
       "      <td>2.508095</td>\n",
       "      <td>59.040291</td>\n",
       "    </tr>\n",
       "    <tr>\n",
       "      <th>2004-01-02</th>\n",
       "      <td>35.418</td>\n",
       "      <td>0.7757</td>\n",
       "      <td>0.4327</td>\n",
       "      <td>83.08</td>\n",
       "      <td>0.2926</td>\n",
       "      <td>0.720268</td>\n",
       "      <td>0.013</td>\n",
       "      <td>7.3</td>\n",
       "      <td>2.508095</td>\n",
       "      <td>59.040291</td>\n",
       "    </tr>\n",
       "    <tr>\n",
       "      <th>2004-01-05</th>\n",
       "      <td>35.603</td>\n",
       "      <td>0.7803</td>\n",
       "      <td>0.4321</td>\n",
       "      <td>82.98</td>\n",
       "      <td>0.2944</td>\n",
       "      <td>0.720268</td>\n",
       "      <td>0.013</td>\n",
       "      <td>7.3</td>\n",
       "      <td>2.508095</td>\n",
       "      <td>59.040291</td>\n",
       "    </tr>\n",
       "    <tr>\n",
       "      <th>2004-01-06</th>\n",
       "      <td>35.471</td>\n",
       "      <td>0.7779</td>\n",
       "      <td>0.4269</td>\n",
       "      <td>82.60</td>\n",
       "      <td>0.2932</td>\n",
       "      <td>0.720268</td>\n",
       "      <td>0.013</td>\n",
       "      <td>7.3</td>\n",
       "      <td>2.508095</td>\n",
       "      <td>59.040291</td>\n",
       "    </tr>\n",
       "    <tr>\n",
       "      <th>2004-01-07</th>\n",
       "      <td>35.345</td>\n",
       "      <td>0.7755</td>\n",
       "      <td>0.4265</td>\n",
       "      <td>82.46</td>\n",
       "      <td>0.2926</td>\n",
       "      <td>0.720268</td>\n",
       "      <td>0.013</td>\n",
       "      <td>7.3</td>\n",
       "      <td>2.508095</td>\n",
       "      <td>59.040291</td>\n",
       "    </tr>\n",
       "    <tr>\n",
       "      <th>...</th>\n",
       "      <td>...</td>\n",
       "      <td>...</td>\n",
       "      <td>...</td>\n",
       "      <td>...</td>\n",
       "      <td>...</td>\n",
       "      <td>...</td>\n",
       "      <td>...</td>\n",
       "      <td>...</td>\n",
       "      <td>...</td>\n",
       "      <td>...</td>\n",
       "    </tr>\n",
       "    <tr>\n",
       "      <th>2021-05-17</th>\n",
       "      <td>60.754</td>\n",
       "      <td>0.8285</td>\n",
       "      <td>0.5860</td>\n",
       "      <td>90.46</td>\n",
       "      <td>0.3117</td>\n",
       "      <td>1.600000</td>\n",
       "      <td>0.034</td>\n",
       "      <td>8.1</td>\n",
       "      <td>0.183075</td>\n",
       "      <td>133.626061</td>\n",
       "    </tr>\n",
       "    <tr>\n",
       "      <th>2021-05-18</th>\n",
       "      <td>60.537</td>\n",
       "      <td>0.8287</td>\n",
       "      <td>0.5840</td>\n",
       "      <td>90.23</td>\n",
       "      <td>0.3118</td>\n",
       "      <td>1.600000</td>\n",
       "      <td>0.034</td>\n",
       "      <td>8.1</td>\n",
       "      <td>0.183075</td>\n",
       "      <td>133.626061</td>\n",
       "    </tr>\n",
       "    <tr>\n",
       "      <th>2021-05-19</th>\n",
       "      <td>60.330</td>\n",
       "      <td>0.8241</td>\n",
       "      <td>0.5837</td>\n",
       "      <td>90.00</td>\n",
       "      <td>0.3106</td>\n",
       "      <td>1.600000</td>\n",
       "      <td>0.034</td>\n",
       "      <td>8.1</td>\n",
       "      <td>0.183075</td>\n",
       "      <td>133.626061</td>\n",
       "    </tr>\n",
       "    <tr>\n",
       "      <th>2021-05-20</th>\n",
       "      <td>60.529</td>\n",
       "      <td>0.8290</td>\n",
       "      <td>0.5841</td>\n",
       "      <td>90.16</td>\n",
       "      <td>0.3125</td>\n",
       "      <td>1.600000</td>\n",
       "      <td>0.034</td>\n",
       "      <td>8.1</td>\n",
       "      <td>0.183075</td>\n",
       "      <td>133.626061</td>\n",
       "    </tr>\n",
       "    <tr>\n",
       "      <th>2021-05-21</th>\n",
       "      <td>60.329</td>\n",
       "      <td>0.8284</td>\n",
       "      <td>0.5854</td>\n",
       "      <td>90.26</td>\n",
       "      <td>0.3120</td>\n",
       "      <td>1.600000</td>\n",
       "      <td>0.034</td>\n",
       "      <td>8.1</td>\n",
       "      <td>0.183075</td>\n",
       "      <td>135.443000</td>\n",
       "    </tr>\n",
       "  </tbody>\n",
       "</table>\n",
       "<p>4537 rows × 10 columns</p>\n",
       "</div>"
      ],
      "text/plain": [
       "               inr     usd     gbp    jpy     bhd  gdp_rate  inflation  \\\n",
       "Date                                                                     \n",
       "2004-01-01  35.171  0.7713  0.4329  82.91  0.2908  0.720268      0.013   \n",
       "2004-01-02  35.418  0.7757  0.4327  83.08  0.2926  0.720268      0.013   \n",
       "2004-01-05  35.603  0.7803  0.4321  82.98  0.2944  0.720268      0.013   \n",
       "2004-01-06  35.471  0.7779  0.4269  82.60  0.2932  0.720268      0.013   \n",
       "2004-01-07  35.345  0.7755  0.4265  82.46  0.2926  0.720268      0.013   \n",
       "...            ...     ...     ...    ...     ...       ...        ...   \n",
       "2021-05-17  60.754  0.8285  0.5860  90.46  0.3117  1.600000      0.034   \n",
       "2021-05-18  60.537  0.8287  0.5840  90.23  0.3118  1.600000      0.034   \n",
       "2021-05-19  60.330  0.8241  0.5837  90.00  0.3106  1.600000      0.034   \n",
       "2021-05-20  60.529  0.8290  0.5841  90.16  0.3125  1.600000      0.034   \n",
       "2021-05-21  60.329  0.8284  0.5854  90.26  0.3120  1.600000      0.034   \n",
       "\n",
       "            unemployment_rate  interest_rate  share_priecs  \n",
       "Date                                                        \n",
       "2004-01-01                7.3       2.508095     59.040291  \n",
       "2004-01-02                7.3       2.508095     59.040291  \n",
       "2004-01-05                7.3       2.508095     59.040291  \n",
       "2004-01-06                7.3       2.508095     59.040291  \n",
       "2004-01-07                7.3       2.508095     59.040291  \n",
       "...                       ...            ...           ...  \n",
       "2021-05-17                8.1       0.183075    133.626061  \n",
       "2021-05-18                8.1       0.183075    133.626061  \n",
       "2021-05-19                8.1       0.183075    133.626061  \n",
       "2021-05-20                8.1       0.183075    133.626061  \n",
       "2021-05-21                8.1       0.183075    135.443000  \n",
       "\n",
       "[4537 rows x 10 columns]"
      ]
     },
     "execution_count": 30,
     "metadata": {},
     "output_type": "execute_result"
    }
   ],
   "source": [
    "## Combine all data into 1 dataframe\n",
    "\n",
    "df = pd.concat([data_currency,data_gdp,data_inflation,data_unemployment,data_interest,data_shareprices], axis=1)\n",
    "df"
   ]
  },
  {
   "cell_type": "code",
   "execution_count": 31,
   "metadata": {},
   "outputs": [],
   "source": [
    "df = df.reset_index()"
   ]
  },
  {
   "cell_type": "code",
   "execution_count": 32,
   "metadata": {},
   "outputs": [],
   "source": [
    "df.to_csv('data_combined_2021.csv', index=False)"
   ]
  },
  {
   "cell_type": "code",
   "execution_count": 33,
   "metadata": {},
   "outputs": [
    {
     "data": {
      "text/plain": [
       "Date                 0\n",
       "inr                  0\n",
       "usd                  0\n",
       "gbp                  0\n",
       "jpy                  0\n",
       "bhd                  0\n",
       "gdp_rate             0\n",
       "inflation            0\n",
       "unemployment_rate    0\n",
       "interest_rate        0\n",
       "share_priecs         0\n",
       "dtype: int64"
      ]
     },
     "execution_count": 33,
     "metadata": {},
     "output_type": "execute_result"
    }
   ],
   "source": [
    "df.isnull().sum()"
   ]
  },
  {
   "cell_type": "code",
   "execution_count": 38,
   "metadata": {},
   "outputs": [],
   "source": [
    "df.set_index('Date', inplace=True)"
   ]
  },
  {
   "cell_type": "code",
   "execution_count": 54,
   "metadata": {},
   "outputs": [],
   "source": [
    "## EDA - Plot our variables one-by one\n",
    "\n",
    "# Code modified from code written by Matthew Garton - from lecture.\n",
    "\n",
    "def plot_series(df, cols=None, title='Title', xlab=None, ylab=None, steps=1):\n",
    "    \n",
    "    # Set figure size to be (18, 9).\n",
    "    plt.figure(figsize=(12,4))\n",
    "    \n",
    "    # Iterate through each column name.\n",
    "    for col in cols:\n",
    "            \n",
    "        # Generate a line plot of the column name.\n",
    "        # You only have to specify Y, since our\n",
    "        # index will be a datetime index.\n",
    "        plt.plot(df[col])\n",
    "        \n",
    "    # Generate title and labels.\n",
    "    plt.title(title, fontsize=18)\n",
    "    plt.xlabel(xlab, fontsize=12)\n",
    "    plt.ylabel(ylab, fontsize=12)\n",
    "    \n",
    "    # Enlarge tick marks.\n",
    "    plt.yticks(fontsize=18)\n",
    "    plt.xticks(df.index[0::steps], fontsize=12);"
   ]
  },
  {
   "cell_type": "code",
   "execution_count": 44,
   "metadata": {},
   "outputs": [
    {
     "data": {
      "text/plain": [
       "Date\n",
       "2004-01-01    0.720268\n",
       "2004-01-02    0.720268\n",
       "2004-01-05    0.720268\n",
       "2004-01-06    0.720268\n",
       "2004-01-07    0.720268\n",
       "                ...   \n",
       "2021-05-17    1.600000\n",
       "2021-05-18    1.600000\n",
       "2021-05-19    1.600000\n",
       "2021-05-20    1.600000\n",
       "2021-05-21    1.600000\n",
       "Name: gdp_rate, Length: 4537, dtype: float64"
      ]
     },
     "execution_count": 44,
     "metadata": {},
     "output_type": "execute_result"
    }
   ],
   "source": [
    "df['gdp_rate']"
   ]
  },
  {
   "cell_type": "code",
   "execution_count": 55,
   "metadata": {},
   "outputs": [
    {
     "data": {
      "image/png": "[encoded data removed]",
      "text/plain": [
       "<Figure size 864x288 with 1 Axes>"
      ]
     },
     "metadata": {},
     "output_type": "display_data"
    }
   ],
   "source": [
    "plot_series(df, ['inr'], title='CAD-INR', steps=730)"
   ]
  },
  {
   "cell_type": "code",
   "execution_count": 62,
   "metadata": {},
   "outputs": [
    {
     "ename": "SyntaxError",
     "evalue": "unexpected EOF while parsing (<ipython-input-62-b30e8344cfa0>, line 1)",
     "output_type": "error",
     "traceback": [
      "\u001b[0;36m  File \u001b[0;32m\"<ipython-input-62-b30e8344cfa0>\"\u001b[0;36m, line \u001b[0;32m1\u001b[0m\n\u001b[0;31m    df[['inr']['2004-01-01']\u001b[0m\n\u001b[0m                            ^\u001b[0m\n\u001b[0;31mSyntaxError\u001b[0m\u001b[0;31m:\u001b[0m unexpected EOF while parsing\n"
     ]
    }
   ],
   "source": [
    "df[['inr']['2004-01-01']"
   ]
  },
  {
   "cell_type": "code",
   "execution_count": null,
   "metadata": {},
   "outputs": [],
   "source": []
  },
  {
   "cell_type": "code",
   "execution_count": null,
   "metadata": {},
   "outputs": [],
   "source": []
  },
  {
   "cell_type": "code",
   "execution_count": null,
   "metadata": {},
   "outputs": [],
   "source": []
  },
  {
   "cell_type": "code",
   "execution_count": null,
   "metadata": {},
   "outputs": [],
   "source": []
  },
  {
   "cell_type": "code",
   "execution_count": null,
   "metadata": {},
   "outputs": [],
   "source": []
  },
  {
   "cell_type": "code",
   "execution_count": null,
   "metadata": {},
   "outputs": [],
   "source": []
  },
  {
   "cell_type": "code",
   "execution_count": null,
   "metadata": {},
   "outputs": [],
   "source": []
  },
  {
   "cell_type": "code",
   "execution_count": null,
   "metadata": {},
   "outputs": [],
   "source": [
    "plt.figure(figsize=(10,5))\n",
    "\n",
    "#plt.plot(data_inr.index,data_inr)\n",
    "plt.plot(data_usd.index,data_usd, label='USD')\n",
    "plt.plot(data_gbp.index,data_gbp, label ='GBP')\n",
    "#plt.plot(data_jpy.index,data_jpy)\n",
    "plt.plot(data_bhd.index,data_bhd, label = 'BHD')\n",
    "plt.legend()\n",
    "plt.title('CAD Exchange Rates comapared to other Countries', fontsize=20)"
   ]
  },
  {
   "cell_type": "code",
   "execution_count": null,
   "metadata": {},
   "outputs": [],
   "source": [
    "import scipy.stats\n",
    "import pylab"
   ]
  },
  {
   "cell_type": "code",
   "execution_count": null,
   "metadata": {},
   "outputs": [],
   "source": [
    "plt.figure(figsize=(10,5))\n",
    "scipy.stats.probplot(df['inr'], plot=pylab)\n",
    "plt.title('CAD to INR distribution compared to Normal distribution', fontsize=20)\n",
    "pylab.show()"
   ]
  },
  {
   "cell_type": "code",
   "execution_count": null,
   "metadata": {},
   "outputs": [],
   "source": []
  }
 ],
 "metadata": {
  "kernelspec": {
   "display_name": "Python 3",
   "language": "python",
   "name": "python3"
  },
  "language_info": {
   "codemirror_mode": {
    "name": "ipython",
    "version": 3
   },
   "file_extension": ".py",
   "mimetype": "text/x-python",
   "name": "python",
   "nbconvert_exporter": "python",
   "pygments_lexer": "ipython3",
   "version": "3.8.5"
  }
 },
 "nbformat": 4,
 "nbformat_minor": 4
}
